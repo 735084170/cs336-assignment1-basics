{
 "cells": [
  {
   "cell_type": "code",
   "execution_count": 4,
   "id": "0cbe1e86",
   "metadata": {},
   "outputs": [
    {
     "name": "stdout",
     "output_type": "stream",
     "text": [
      "26446\n",
      "李\n"
     ]
    }
   ],
   "source": [
    "print(ord('李'))\n",
    "print(chr(ord('李')))"
   ]
  },
  {
   "cell_type": "code",
   "execution_count": 10,
   "id": "787c96e5",
   "metadata": {},
   "outputs": [],
   "source": [
    "assert None != chr(0)"
   ]
  },
  {
   "cell_type": "code",
   "execution_count": 27,
   "id": "71dd0ac4",
   "metadata": {},
   "outputs": [
    {
     "data": {
      "text/plain": [
       "'\\x00'"
      ]
     },
     "execution_count": 27,
     "metadata": {},
     "output_type": "execute_result"
    }
   ],
   "source": [
    "chr(0).__str__()"
   ]
  },
  {
   "cell_type": "code",
   "execution_count": 22,
   "id": "d82f8227",
   "metadata": {},
   "outputs": [
    {
     "name": "stdout",
     "output_type": "stream",
     "text": [
      "\u0000\n"
     ]
    }
   ],
   "source": [
    "print('\\x00')"
   ]
  },
  {
   "cell_type": "code",
   "execution_count": 12,
   "id": "61f531da",
   "metadata": {},
   "outputs": [
    {
     "name": "stdout",
     "output_type": "stream",
     "text": [
      "\u0000\n"
     ]
    }
   ],
   "source": [
    "print(chr(0))"
   ]
  },
  {
   "cell_type": "code",
   "execution_count": null,
   "id": "0540f4d8",
   "metadata": {},
   "outputs": [],
   "source": [
    "\"this is a test\" + chr(0) + \"string\"\n",
    "# output： 'this is a test\\x00string'"
   ]
  },
  {
   "cell_type": "code",
   "execution_count": 31,
   "id": "98654a92",
   "metadata": {},
   "outputs": [
    {
     "name": "stdout",
     "output_type": "stream",
     "text": [
      "this is a test\u0000string\n"
     ]
    }
   ],
   "source": [
    "print(a)"
   ]
  },
  {
   "cell_type": "code",
   "execution_count": null,
   "id": "6fe47196",
   "metadata": {},
   "outputs": [
    {
     "name": "stdout",
     "output_type": "stream",
     "text": [
      "this is a test\u0000string\n"
     ]
    }
   ],
   "source": [
    "print(\"this is a test\" + chr(0) + \"string\")\n",
    "# output: this is a test\u0000string"
   ]
  },
  {
   "cell_type": "code",
   "execution_count": 20,
   "id": "c19e280d",
   "metadata": {},
   "outputs": [
    {
     "data": {
      "text/plain": [
       "'Դ'"
      ]
     },
     "execution_count": 20,
     "metadata": {},
     "output_type": "execute_result"
    }
   ],
   "source": [
    "chr(1332)"
   ]
  },
  {
   "cell_type": "code",
   "execution_count": 21,
   "id": "7fa2c4b8",
   "metadata": {},
   "outputs": [
    {
     "name": "stdout",
     "output_type": "stream",
     "text": [
      "Դ\n"
     ]
    }
   ],
   "source": [
    "print(chr(1332))"
   ]
  }
 ],
 "metadata": {
  "kernelspec": {
   "display_name": "cs336-1",
   "language": "python",
   "name": "python3"
  },
  "language_info": {
   "codemirror_mode": {
    "name": "ipython",
    "version": 3
   },
   "file_extension": ".py",
   "mimetype": "text/x-python",
   "name": "python",
   "nbconvert_exporter": "python",
   "pygments_lexer": "ipython3",
   "version": "3.10.18"
  }
 },
 "nbformat": 4,
 "nbformat_minor": 5
}
